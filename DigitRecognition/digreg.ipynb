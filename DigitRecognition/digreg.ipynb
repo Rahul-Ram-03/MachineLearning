{
 "cells": [
  {
   "cell_type": "code",
   "execution_count": 1,
   "metadata": {},
   "outputs": [],
   "source": [
    "#data courtesy of MNIST: http://yann.lecun.com/exdb/mnist/\n",
    "import pandas as pd\n",
    "import struct\n",
    "import numpy as np\n",
    "from sklearn.model_selection import train_test_split\n",
    "import matplotlib.pyplot as plt\n",
    "from tensorflow.keras.layers import Dense\n",
    "from tensorflow.keras.models import Sequential\n",
    "import tensorflow as tf"
   ]
  },
  {
   "cell_type": "code",
   "execution_count": 2,
   "metadata": {},
   "outputs": [
    {
     "data": {
      "text/plain": [
       "(60000, 28, 28)"
      ]
     },
     "execution_count": 2,
     "metadata": {},
     "output_type": "execute_result"
    }
   ],
   "source": [
    "#see: https://stackoverflow.com/questions/39969045/parsing-yann-lecuns-mnist-idx-file-format\n",
    "#loading the training data/input\n",
    "with open(\"train-images.idx3-ubyte\", \"rb\") as f:\n",
    "    magic, size = struct.unpack(\">II\", f.read(8))\n",
    "    nrows, ncols = struct.unpack(\">II\", f.read(8))\n",
    "    train_data = np.fromfile(f, dtype=np.dtype(np.uint8).newbyteorder('>'))\n",
    "    train_data = train_data.reshape((size, nrows, ncols))\n",
    "\n",
    "train_data.shape\n"
   ]
  },
  {
   "cell_type": "code",
   "execution_count": 3,
   "metadata": {},
   "outputs": [
    {
     "data": {
      "text/plain": [
       "(60000,)"
      ]
     },
     "execution_count": 3,
     "metadata": {},
     "output_type": "execute_result"
    }
   ],
   "source": [
    "#loading the target labels\n",
    "with open(\"train-labels.idx1-ubyte\", \"rb\") as f:\n",
    "    magic, size = struct.unpack(\">II\", f.read(8))\n",
    "    train_label = np.fromfile(f, dtype=np.dtype(np.uint8).newbyteorder('>'))\n",
    "    #train_label = train_label.reshape((size, 28, 28))\n",
    "train_label.shape    "
   ]
  },
  {
   "cell_type": "code",
   "execution_count": null,
   "metadata": {},
   "outputs": [],
   "source": [
    "#reshape the 3D matrix to a format that can be used by numpy and tensorflow\n",
    "#the images are of size 28x28 pixels\n",
    "#28*28 = 784\n",
    "train_data = train_data.reshape(train_data.shape[0], 784)\n",
    "\n",
    "for i in range(5):\n",
    "    plt.imshow(train_data[i,:].reshape(28,28), cmap=\"gray\")\n",
    "    plt.title(train_label[i])\n",
    "    plt.show()\n"
   ]
  },
  {
   "cell_type": "code",
   "execution_count": null,
   "metadata": {},
   "outputs": [],
   "source": [
    "#output layer uses linear activation because softmax activation's numerical stability is\n",
    "#lower compared to that of linear activation + softmax function\n",
    "model =  Sequential(\n",
    "    [\n",
    "        tf.keras.Input(shape=(784,)),\n",
    "        Dense(80,activation=\"relu\"),\n",
    "        Dense(40,activation=\"relu\"),\n",
    "        Dense(20,activation=\"relu\"),\n",
    "        Dense(10,activation=\"linear\"),\n",
    "    ]\n",
    ")\n",
    "\n",
    "model.summary()"
   ]
  },
  {
   "cell_type": "code",
   "execution_count": null,
   "metadata": {},
   "outputs": [],
   "source": [
    "model.compile(\n",
    "    loss= tf.keras.losses.SparseCategoricalCrossentropy(from_logits=True),\n",
    "    optimizer= tf.keras.optimizers.Adam(0.0003)\n",
    ")\n",
    "\n",
    "model.fit(train_data, train_label, epochs=100)"
   ]
  },
  {
   "cell_type": "code",
   "execution_count": null,
   "metadata": {},
   "outputs": [],
   "source": [
    "with open(\"t10k-images.idx3-ubyte\", \"rb\") as f:\n",
    "    magic, size = struct.unpack(\">II\", f.read(8))\n",
    "    nrows, ncols = struct.unpack(\">II\", f.read(8))\n",
    "    test_data = np.fromfile(f, dtype=np.dtype(np.uint8).newbyteorder('>'))\n",
    "    test_data = test_data.reshape((size, 28, 28))\n",
    "    \n",
    "test_data = test_data.reshape(test_data.shape[0], 784)\n",
    "test_data.shape"
   ]
  },
  {
   "cell_type": "code",
   "execution_count": null,
   "metadata": {},
   "outputs": [],
   "source": [
    "with open(\"t10k-labels.idx1-ubyte\", \"rb\") as f:\n",
    "    magic, size = struct.unpack(\">II\", f.read(8))\n",
    "    test_label = np.fromfile(f, dtype=np.dtype(np.uint8).newbyteorder('>'))\n",
    "    #train_data = train_data.reshape((size, nrows, ncols))\n",
    "\n",
    "test_label.shape   "
   ]
  },
  {
   "cell_type": "code",
   "execution_count": null,
   "metadata": {},
   "outputs": [],
   "source": [
    "test_data, cv_data, test_label, cv_label = train_test_split(test_data, test_label, train_size=0.25)\n",
    "\n",
    "print(f\"Test sets and CV set shape:{test_data.shape, cv_data.shape}\")"
   ]
  },
  {
   "cell_type": "code",
   "execution_count": null,
   "metadata": {},
   "outputs": [],
   "source": [
    "predictions = tf.nn.softmax(model.predict(cv_data)).numpy()\n",
    "\n",
    "c = 0\n",
    "m = cv_data.shape[0]\n",
    "\n",
    "for i in range(m):\n",
    "    if(np.argmax(predictions[i])!=cv_label[i]):\n",
    "        c = c + 1\n",
    "        #print(f\"prediction and label:{np.argmax(predictions[i]), cv_label[i]}\")\n",
    "\n",
    "print(f\"Cross validation set error rate: {c/m}\")"
   ]
  },
  {
   "cell_type": "code",
   "execution_count": null,
   "metadata": {},
   "outputs": [],
   "source": [
    "test_pred = tf.nn.softmax(model.predict(test_data)).numpy()\n",
    "\n",
    "c = 0\n",
    "m = test_data.shape[0]\n",
    "\n",
    "for i in range(m):\n",
    "    if(np.argmax(test_pred[i])!=test_label[i]):\n",
    "        c = c + 1\n",
    "        #print(f\"prediction and label:{np.argmax(test_pred[i]), test_label[i]}\")\n",
    "\n",
    "print(f\"Test set error rate: {c/m}\")"
   ]
  }
 ],
 "metadata": {
  "kernelspec": {
   "display_name": "Python 3.10.4 64-bit",
   "language": "python",
   "name": "python3"
  },
  "language_info": {
   "codemirror_mode": {
    "name": "ipython",
    "version": 3
   },
   "file_extension": ".py",
   "mimetype": "text/x-python",
   "name": "python",
   "nbconvert_exporter": "python",
   "pygments_lexer": "ipython3",
   "version": "3.10.4"
  },
  "orig_nbformat": 4,
  "vscode": {
   "interpreter": {
    "hash": "490884e7e377a2da9966ed37e82831f3fd1d200c4fab21381ab5fe8f244ef56c"
   }
  }
 },
 "nbformat": 4,
 "nbformat_minor": 2
}
