{
 "cells": [
  {
   "cell_type": "code",
   "execution_count": 1,
   "metadata": {},
   "outputs": [],
   "source": [
    "#data courtesy of MNIST: http://yann.lecun.com/exdb/mnist/\n",
    "import pandas as pd\n",
    "import struct\n",
    "import numpy as np\n",
    "from sklearn.model_selection import train_test_split\n",
    "import matplotlib.pyplot as plt\n",
    "from tensorflow.keras.layers import Dense\n",
    "from tensorflow.keras.models import Sequential\n",
    "import tensorflow as tf"
   ]
  },
  {
   "cell_type": "code",
   "execution_count": 2,
   "metadata": {},
   "outputs": [
    {
     "data": {
      "text/plain": [
       "(60000, 28, 28)"
      ]
     },
     "execution_count": 2,
     "metadata": {},
     "output_type": "execute_result"
    }
   ],
   "source": [
    "#see: https://stackoverflow.com/questions/39969045/parsing-yann-lecuns-mnist-idx-file-format\n",
    "#loading the training data/input\n",
    "with open(\"train-images.idx3-ubyte\", \"rb\") as f:\n",
    "    magic, size = struct.unpack(\">II\", f.read(8))\n",
    "    nrows, ncols = struct.unpack(\">II\", f.read(8))\n",
    "    train_data = np.fromfile(f, dtype=np.dtype(np.uint8).newbyteorder('>'))\n",
    "    train_data = train_data.reshape((size, nrows, ncols))\n",
    "\n",
    "train_data.shape\n"
   ]
  },
  {
   "cell_type": "code",
   "execution_count": 3,
   "metadata": {},
   "outputs": [
    {
     "data": {
      "text/plain": [
       "(60000,)"
      ]
     },
     "execution_count": 3,
     "metadata": {},
     "output_type": "execute_result"
    }
   ],
   "source": [
    "#loading the target labels\n",
    "with open(\"train-labels.idx1-ubyte\", \"rb\") as f:\n",
    "    magic, size = struct.unpack(\">II\", f.read(8))\n",
    "    train_label = np.fromfile(f, dtype=np.dtype(np.uint8).newbyteorder('>'))\n",
    "    #train_label = train_label.reshape((size, 28, 28))\n",
    "train_label.shape    "
   ]
  },
  {
   "cell_type": "code",
   "execution_count": 4,
   "metadata": {},
   "outputs": [
    {
     "data": {
      "image/png": "[encoded data removed]",
      "text/plain": [
       "<Figure size 432x288 with 1 Axes>"
      ]
     },
     "metadata": {
      "needs_background": "light"
     },
     "output_type": "display_data"
    },
    {
     "data": {
      "image/png": "[encoded data removed]",
      "text/plain": [
       "<Figure size 432x288 with 1 Axes>"
      ]
     },
     "metadata": {
      "needs_background": "light"
     },
     "output_type": "display_data"
    },
    {
     "data": {
      "image/png": "[encoded data removed]",
      "text/plain": [
       "<Figure size 432x288 with 1 Axes>"
      ]
     },
     "metadata": {
      "needs_background": "light"
     },
     "output_type": "display_data"
    },
    {
     "data": {
      "image/png": "[encoded data removed]",
      "text/plain": [
       "<Figure size 432x288 with 1 Axes>"
      ]
     },
     "metadata": {
      "needs_background": "light"
     },
     "output_type": "display_data"
    },
    {
     "data": {
      "image/png": "[encoded data removed]",
      "text/plain": [
       "<Figure size 432x288 with 1 Axes>"
      ]
     },
     "metadata": {
      "needs_background": "light"
     },
     "output_type": "display_data"
    }
   ],
   "source": [
    "#reshape the 3D matrix to a format that can be used by numpy and tensorflow\n",
    "#the images are of size 28x28 pixels\n",
    "#28*28 = 784\n",
    "train_data = train_data.reshape(train_data.shape[0], 784)\n",
    "\n",
    "for i in range(5):\n",
    "    plt.imshow(train_data[i,:].reshape(28,28), cmap=\"gray\")\n",
    "    plt.title(train_label[i])\n",
    "    plt.show()\n"
   ]
  },
  {
   "cell_type": "code",
   "execution_count": 5,
   "metadata": {},
   "outputs": [
    {
     "name": "stdout",
     "output_type": "stream",
     "text": [
      "Model: \"sequential\"\n",
      "_________________________________________________________________\n",
      " Layer (type)                Output Shape              Param #   \n",
      "=================================================================\n",
      " dense (Dense)               (None, 100)               78500     \n",
      "                                                                 \n",
      " dense_1 (Dense)             (None, 50)                5050      \n",
      "                                                                 \n",
      " dense_2 (Dense)             (None, 25)                1275      \n",
      "                                                                 \n",
      " dense_3 (Dense)             (None, 10)                260       \n",
      "                                                                 \n",
      "=================================================================\n",
      "Total params: 85,085\n",
      "Trainable params: 85,085\n",
      "Non-trainable params: 0\n",
      "_________________________________________________________________\n"
     ]
    }
   ],
   "source": [
    "#output layer uses linear activation because softmax activation's numerical stability is\n",
    "#lower compared to that of linear activation + softmax function\n",
    "model =  Sequential(\n",
    "    [\n",
    "        tf.keras.Input(shape=(784,)),\n",
    "        Dense(100,activation=\"relu\"),\n",
    "        Dense(50,activation=\"relu\"),\n",
    "        Dense(25,activation=\"relu\"),\n",
    "        Dense(10,activation=\"linear\"),\n",
    "    ]\n",
    ")\n",
    "\n",
    "model.summary()"
   ]
  },
  {
   "cell_type": "code",
   "execution_count": 6,
   "metadata": {},
   "outputs": [
    {
     "name": "stdout",
     "output_type": "stream",
     "text": [
      "Epoch 1/85\n",
      "1875/1875 [==============================] - 3s 1ms/step - loss: 2.1930\n",
      "Epoch 2/85\n",
      "1875/1875 [==============================] - 3s 1ms/step - loss: 0.7400\n",
      "Epoch 3/85\n",
      "1875/1875 [==============================] - 3s 2ms/step - loss: 0.4868\n",
      "Epoch 4/85\n",
      "1875/1875 [==============================] - 3s 1ms/step - loss: 0.3523\n",
      "Epoch 5/85\n",
      "1875/1875 [==============================] - 2s 1ms/step - loss: 0.2587\n",
      "Epoch 6/85\n",
      "1875/1875 [==============================] - 2s 1ms/step - loss: 0.1881\n",
      "Epoch 7/85\n",
      "1875/1875 [==============================] - 2s 1ms/step - loss: 0.1450\n",
      "Epoch 8/85\n",
      "1875/1875 [==============================] - 2s 1ms/step - loss: 0.1170\n",
      "Epoch 9/85\n",
      "1875/1875 [==============================] - 2s 1ms/step - loss: 0.0979\n",
      "Epoch 10/85\n",
      "1875/1875 [==============================] - 2s 1ms/step - loss: 0.0847\n",
      "Epoch 11/85\n",
      "1875/1875 [==============================] - 3s 1ms/step - loss: 0.0717\n",
      "Epoch 12/85\n",
      "1875/1875 [==============================] - 3s 1ms/step - loss: 0.0659\n",
      "Epoch 13/85\n",
      "1875/1875 [==============================] - 3s 1ms/step - loss: 0.0574\n",
      "Epoch 14/85\n",
      "1875/1875 [==============================] - 2s 1ms/step - loss: 0.0504\n",
      "Epoch 15/85\n",
      "1875/1875 [==============================] - 3s 1ms/step - loss: 0.0459\n",
      "Epoch 16/85\n",
      "1875/1875 [==============================] - 2s 1ms/step - loss: 0.0445\n",
      "Epoch 17/85\n",
      "1875/1875 [==============================] - 3s 1ms/step - loss: 0.0367\n",
      "Epoch 18/85\n",
      "1875/1875 [==============================] - 3s 1ms/step - loss: 0.0356\n",
      "Epoch 19/85\n",
      "1875/1875 [==============================] - 2s 1ms/step - loss: 0.0325\n",
      "Epoch 20/85\n",
      "1875/1875 [==============================] - 2s 1ms/step - loss: 0.0283\n",
      "Epoch 21/85\n",
      "1875/1875 [==============================] - 2s 1ms/step - loss: 0.0327\n",
      "Epoch 22/85\n",
      "1875/1875 [==============================] - 2s 1ms/step - loss: 0.0264\n",
      "Epoch 23/85\n",
      "1875/1875 [==============================] - 2s 1ms/step - loss: 0.0220\n",
      "Epoch 24/85\n",
      "1875/1875 [==============================] - 2s 1ms/step - loss: 0.0241\n",
      "Epoch 25/85\n",
      "1875/1875 [==============================] - 2s 1ms/step - loss: 0.0233\n",
      "Epoch 26/85\n",
      "1875/1875 [==============================] - 2s 1ms/step - loss: 0.0218\n",
      "Epoch 27/85\n",
      "1875/1875 [==============================] - 2s 1ms/step - loss: 0.0212\n",
      "Epoch 28/85\n",
      "1875/1875 [==============================] - 2s 1ms/step - loss: 0.0218\n",
      "Epoch 29/85\n",
      "1875/1875 [==============================] - 3s 1ms/step - loss: 0.0205\n",
      "Epoch 30/85\n",
      "1875/1875 [==============================] - 2s 1ms/step - loss: 0.0199\n",
      "Epoch 31/85\n",
      "1875/1875 [==============================] - 2s 1ms/step - loss: 0.0174\n",
      "Epoch 32/85\n",
      "1875/1875 [==============================] - 2s 1ms/step - loss: 0.0182\n",
      "Epoch 33/85\n",
      "1875/1875 [==============================] - 2s 1ms/step - loss: 0.0163\n",
      "Epoch 34/85\n",
      "1875/1875 [==============================] - 2s 1ms/step - loss: 0.0166\n",
      "Epoch 35/85\n",
      "1875/1875 [==============================] - 2s 1ms/step - loss: 0.0167\n",
      "Epoch 36/85\n",
      "1875/1875 [==============================] - 3s 1ms/step - loss: 0.0155\n",
      "Epoch 37/85\n",
      "1875/1875 [==============================] - 3s 1ms/step - loss: 0.0172\n",
      "Epoch 38/85\n",
      "1875/1875 [==============================] - 2s 1ms/step - loss: 0.0150\n",
      "Epoch 39/85\n",
      "1875/1875 [==============================] - 2s 1ms/step - loss: 0.0152\n",
      "Epoch 40/85\n",
      "1875/1875 [==============================] - 2s 1ms/step - loss: 0.0138\n",
      "Epoch 41/85\n",
      "1875/1875 [==============================] - 3s 1ms/step - loss: 0.0119\n",
      "Epoch 42/85\n",
      "1875/1875 [==============================] - 3s 1ms/step - loss: 0.0138\n",
      "Epoch 43/85\n",
      "1875/1875 [==============================] - 2s 1ms/step - loss: 0.0129\n",
      "Epoch 44/85\n",
      "1875/1875 [==============================] - 3s 1ms/step - loss: 0.0139\n",
      "Epoch 45/85\n",
      "1875/1875 [==============================] - 2s 1ms/step - loss: 0.0119\n",
      "Epoch 46/85\n",
      "1875/1875 [==============================] - 2s 1ms/step - loss: 0.0131\n",
      "Epoch 47/85\n",
      "1875/1875 [==============================] - 2s 1ms/step - loss: 0.0123\n",
      "Epoch 48/85\n",
      "1875/1875 [==============================] - 3s 2ms/step - loss: 0.0108\n",
      "Epoch 49/85\n",
      "1875/1875 [==============================] - 3s 1ms/step - loss: 0.0135\n",
      "Epoch 50/85\n",
      "1875/1875 [==============================] - 3s 1ms/step - loss: 0.0108\n",
      "Epoch 51/85\n",
      "1875/1875 [==============================] - 2s 1ms/step - loss: 0.0134\n",
      "Epoch 52/85\n",
      "1875/1875 [==============================] - 2s 1ms/step - loss: 0.0113\n",
      "Epoch 53/85\n",
      "1875/1875 [==============================] - 2s 1ms/step - loss: 0.0092\n",
      "Epoch 54/85\n",
      "1875/1875 [==============================] - 2s 1ms/step - loss: 0.0104\n",
      "Epoch 55/85\n",
      "1875/1875 [==============================] - 2s 1ms/step - loss: 0.0139\n",
      "Epoch 56/85\n",
      "1875/1875 [==============================] - 3s 1ms/step - loss: 0.0089\n",
      "Epoch 57/85\n",
      "1875/1875 [==============================] - 3s 2ms/step - loss: 0.0105\n",
      "Epoch 58/85\n",
      "1875/1875 [==============================] - 3s 1ms/step - loss: 0.0099\n",
      "Epoch 59/85\n",
      "1875/1875 [==============================] - 3s 1ms/step - loss: 0.0127\n",
      "Epoch 60/85\n",
      "1875/1875 [==============================] - 3s 2ms/step - loss: 0.0084\n",
      "Epoch 61/85\n",
      "1875/1875 [==============================] - 3s 1ms/step - loss: 0.0111\n",
      "Epoch 62/85\n",
      "1875/1875 [==============================] - 4s 2ms/step - loss: 0.0109\n",
      "Epoch 63/85\n",
      "1875/1875 [==============================] - 3s 1ms/step - loss: 0.0114\n",
      "Epoch 64/85\n",
      "1875/1875 [==============================] - 3s 1ms/step - loss: 0.0093\n",
      "Epoch 65/85\n",
      "1875/1875 [==============================] - 3s 1ms/step - loss: 0.0102\n",
      "Epoch 66/85\n",
      "1875/1875 [==============================] - 2s 1ms/step - loss: 0.0096\n",
      "Epoch 67/85\n",
      "1875/1875 [==============================] - 2s 1ms/step - loss: 0.0093\n",
      "Epoch 68/85\n",
      "1875/1875 [==============================] - 2s 1ms/step - loss: 0.0134\n",
      "Epoch 69/85\n",
      "1875/1875 [==============================] - 2s 1ms/step - loss: 0.0088\n",
      "Epoch 70/85\n",
      "1875/1875 [==============================] - 3s 1ms/step - loss: 0.0078\n",
      "Epoch 71/85\n",
      "1875/1875 [==============================] - 3s 1ms/step - loss: 0.0102\n",
      "Epoch 72/85\n",
      "1875/1875 [==============================] - 3s 1ms/step - loss: 0.0079\n",
      "Epoch 73/85\n",
      "1875/1875 [==============================] - 3s 1ms/step - loss: 0.0112\n",
      "Epoch 74/85\n",
      "1875/1875 [==============================] - 3s 1ms/step - loss: 0.0100\n",
      "Epoch 75/85\n",
      "1875/1875 [==============================] - 3s 1ms/step - loss: 0.0073\n",
      "Epoch 76/85\n",
      "1875/1875 [==============================] - 3s 1ms/step - loss: 0.0095\n",
      "Epoch 77/85\n",
      "1875/1875 [==============================] - 3s 1ms/step - loss: 0.0073\n",
      "Epoch 78/85\n",
      "1875/1875 [==============================] - 3s 2ms/step - loss: 0.0095\n",
      "Epoch 79/85\n",
      "1875/1875 [==============================] - 3s 1ms/step - loss: 0.0088\n",
      "Epoch 80/85\n",
      "1875/1875 [==============================] - 3s 1ms/step - loss: 0.0087\n",
      "Epoch 81/85\n",
      "1875/1875 [==============================] - 3s 1ms/step - loss: 0.0118\n",
      "Epoch 82/85\n",
      "1875/1875 [==============================] - 3s 1ms/step - loss: 0.0075\n",
      "Epoch 83/85\n",
      "1875/1875 [==============================] - 3s 1ms/step - loss: 0.0088\n",
      "Epoch 84/85\n",
      "1875/1875 [==============================] - 3s 1ms/step - loss: 0.0096\n",
      "Epoch 85/85\n",
      "1875/1875 [==============================] - 3s 1ms/step - loss: 0.0058\n"
     ]
    },
    {
     "data": {
      "text/plain": [
       "<keras.callbacks.History at 0x1426178e380>"
      ]
     },
     "execution_count": 6,
     "metadata": {},
     "output_type": "execute_result"
    }
   ],
   "source": [
    "model.compile(\n",
    "    loss= tf.keras.losses.SparseCategoricalCrossentropy(from_logits=True),\n",
    "    optimizer= tf.keras.optimizers.Adam(0.0003)\n",
    ")\n",
    "\n",
    "model.fit(train_data, train_label, epochs=85)"
   ]
  },
  {
   "cell_type": "code",
   "execution_count": 7,
   "metadata": {},
   "outputs": [
    {
     "data": {
      "text/plain": [
       "(10000, 784)"
      ]
     },
     "execution_count": 7,
     "metadata": {},
     "output_type": "execute_result"
    }
   ],
   "source": [
    "with open(\"t10k-images.idx3-ubyte\", \"rb\") as f:\n",
    "    magic, size = struct.unpack(\">II\", f.read(8))\n",
    "    nrows, ncols = struct.unpack(\">II\", f.read(8))\n",
    "    test_data = np.fromfile(f, dtype=np.dtype(np.uint8).newbyteorder('>'))\n",
    "    test_data = test_data.reshape((size, 28, 28))\n",
    "    \n",
    "test_data = test_data.reshape(test_data.shape[0], 784)\n",
    "test_data.shape"
   ]
  },
  {
   "cell_type": "code",
   "execution_count": 8,
   "metadata": {},
   "outputs": [
    {
     "data": {
      "text/plain": [
       "(10000,)"
      ]
     },
     "execution_count": 8,
     "metadata": {},
     "output_type": "execute_result"
    }
   ],
   "source": [
    "with open(\"t10k-labels.idx1-ubyte\", \"rb\") as f:\n",
    "    magic, size = struct.unpack(\">II\", f.read(8))\n",
    "    test_label = np.fromfile(f, dtype=np.dtype(np.uint8).newbyteorder('>'))\n",
    "    #train_data = train_data.reshape((size, nrows, ncols))\n",
    "\n",
    "test_label.shape   "
   ]
  },
  {
   "cell_type": "code",
   "execution_count": 9,
   "metadata": {},
   "outputs": [
    {
     "name": "stdout",
     "output_type": "stream",
     "text": [
      "Test sets and CV set shape:((2500, 784), (7500, 784))\n"
     ]
    }
   ],
   "source": [
    "test_data, cv_data, test_label, cv_label = train_test_split(test_data, test_label, train_size=0.25)\n",
    "\n",
    "print(f\"Test sets and CV set shape:{test_data.shape, cv_data.shape}\")"
   ]
  },
  {
   "cell_type": "code",
   "execution_count": 10,
   "metadata": {},
   "outputs": [
    {
     "name": "stdout",
     "output_type": "stream",
     "text": [
      "235/235 [==============================] - 0s 949us/step\n",
      "Cross validation set error rate: 0.026933333333333333\n"
     ]
    }
   ],
   "source": [
    "predictions = tf.nn.softmax(model.predict(cv_data)).numpy()\n",
    "\n",
    "c = 0\n",
    "m = cv_data.shape[0]\n",
    "\n",
    "for i in range(m):\n",
    "    if(np.argmax(predictions[i])!=cv_label[i]):\n",
    "        c = c + 1\n",
    "        #print(f\"prediction and label:{np.argmax(predictions[i]), cv_label[i]}\")\n",
    "\n",
    "print(f\"Cross validation set error rate: {c/m}\")"
   ]
  },
  {
   "cell_type": "code",
   "execution_count": 11,
   "metadata": {},
   "outputs": [
    {
     "name": "stdout",
     "output_type": "stream",
     "text": [
      "79/79 [==============================] - 0s 1ms/step\n",
      "Test set error rate: 0.026\n"
     ]
    }
   ],
   "source": [
    "test_pred = tf.nn.softmax(model.predict(test_data)).numpy()\n",
    "\n",
    "c = 0\n",
    "m = test_data.shape[0]\n",
    "\n",
    "for i in range(m):\n",
    "    if(np.argmax(test_pred[i])!=test_label[i]):\n",
    "        c = c + 1\n",
    "        #print(f\"prediction and label:{np.argmax(test_pred[i]), test_label[i]}\")\n",
    "\n",
    "print(f\"Test set error rate: {c/m}\")"
   ]
  }
 ],
 "metadata": {
  "kernelspec": {
   "display_name": "Python 3.10.4 64-bit",
   "language": "python",
   "name": "python3"
  },
  "language_info": {
   "codemirror_mode": {
    "name": "ipython",
    "version": 3
   },
   "file_extension": ".py",
   "mimetype": "text/x-python",
   "name": "python",
   "nbconvert_exporter": "python",
   "pygments_lexer": "ipython3",
   "version": "3.10.4"
  },
  "orig_nbformat": 4,
  "vscode": {
   "interpreter": {
    "hash": "490884e7e377a2da9966ed37e82831f3fd1d200c4fab21381ab5fe8f244ef56c"
   }
  }
 },
 "nbformat": 4,
 "nbformat_minor": 2
}
