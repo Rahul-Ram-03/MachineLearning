{
 "cells": [
  {
   "cell_type": "code",
   "execution_count": 47,
   "metadata": {},
   "outputs": [],
   "source": [
    "import numpy as np\n",
    "import pandas as pd\n",
    "from tensorflow.keras.layers import Dense\n",
    "from tensorflow.keras.models import Sequential\n",
    "import seaborn as sns\n",
    "import tensorflow as tf\n",
    "import matplotlib.pyplot as plt\n",
    "from sklearn.model_selection import train_test_split\n"
   ]
  },
  {
   "cell_type": "code",
   "execution_count": 35,
   "metadata": {},
   "outputs": [
    {
     "data": {
      "text/plain": [
       "(372450, 785)"
      ]
     },
     "execution_count": 35,
     "metadata": {},
     "output_type": "execute_result"
    }
   ],
   "source": [
    "#loading the data from the csv file into a pandas dataframe\n",
    "df = pd.read_csv(\"chardata.csv\")\n",
    "df.shape"
   ]
  },
  {
   "cell_type": "code",
   "execution_count": 36,
   "metadata": {},
   "outputs": [],
   "source": [
    "df.rename(columns={'0':'label'}, inplace= True)"
   ]
  },
  {
   "cell_type": "code",
   "execution_count": 40,
   "metadata": {},
   "outputs": [
    {
     "name": "stdout",
     "output_type": "stream",
     "text": [
      "Shape of X and y: ((372450, 784), (372450,))\n"
     ]
    }
   ],
   "source": [
    "#Splitting the dataset into target vector and label array\n",
    "X = df.drop(\"label\", axis= 1).values\n",
    "y = df[\"label\"].values\n",
    "\n",
    "print(f\"Shape of X and y: {X.shape, y.shape}\")"
   ]
  },
  {
   "cell_type": "code",
   "execution_count": 42,
   "metadata": {},
   "outputs": [
    {
     "data": {
      "image/png": "[encoded data removed]",
      "text/plain": [
       "<Figure size 432x288 with 1 Axes>"
      ]
     },
     "metadata": {
      "needs_background": "light"
     },
     "output_type": "display_data"
    },
    {
     "data": {
      "image/png": "[encoded data removed]",
      "text/plain": [
       "<Figure size 432x288 with 1 Axes>"
      ]
     },
     "metadata": {
      "needs_background": "light"
     },
     "output_type": "display_data"
    },
    {
     "data": {
      "image/png": "[encoded data removed]",
      "text/plain": [
       "<Figure size 432x288 with 1 Axes>"
      ]
     },
     "metadata": {
      "needs_background": "light"
     },
     "output_type": "display_data"
    },
    {
     "data": {
      "image/png": "[encoded data removed]",
      "text/plain": [
       "<Figure size 432x288 with 1 Axes>"
      ]
     },
     "metadata": {
      "needs_background": "light"
     },
     "output_type": "display_data"
    },
    {
     "data": {
      "image/png": "[encoded data removed]",
      "text/plain": [
       "<Figure size 432x288 with 1 Axes>"
      ]
     },
     "metadata": {
      "needs_background": "light"
     },
     "output_type": "display_data"
    }
   ],
   "source": [
    "#printing 5 random images to gain info about the dataset\n",
    "for i in range(5):\n",
    "    k = np.random.randint(low= 0,high= 372450)\n",
    "    plt.imshow(X[k,:].reshape(28,28), cmap=\"gray\")\n",
    "    plt.title(y[k])\n",
    "    plt.show()"
   ]
  },
  {
   "cell_type": "code",
   "execution_count": 46,
   "metadata": {},
   "outputs": [
    {
     "name": "stdout",
     "output_type": "stream",
     "text": [
      "Model: \"sequential_2\"\n",
      "_________________________________________________________________\n",
      " Layer (type)                Output Shape              Param #   \n",
      "=================================================================\n",
      " dense_10 (Dense)            (None, 200)               157000    \n",
      "                                                                 \n",
      " dense_11 (Dense)            (None, 150)               30150     \n",
      "                                                                 \n",
      " dense_12 (Dense)            (None, 100)               15100     \n",
      "                                                                 \n",
      " dense_13 (Dense)            (None, 50)                5050      \n",
      "                                                                 \n",
      " dense_14 (Dense)            (None, 26)                1326      \n",
      "                                                                 \n",
      "=================================================================\n",
      "Total params: 208,626\n",
      "Trainable params: 208,626\n",
      "Non-trainable params: 0\n",
      "_________________________________________________________________\n"
     ]
    }
   ],
   "source": [
    "#creating the NN model\n",
    "model = Sequential(\n",
    "    [\n",
    "        tf.keras.Input(shape=(784,),),\n",
    "        Dense(200, activation= \"relu\"),\n",
    "        Dense(150, activation= \"relu\"),\n",
    "        Dense(100, activation= \"relu\"),\n",
    "        Dense(50, activation= \"relu\"),\n",
    "        Dense(26, activation= \"linear\")\n",
    "    ]\n",
    ")\n",
    "\n",
    "model.summary()"
   ]
  },
  {
   "cell_type": "code",
   "execution_count": 49,
   "metadata": {},
   "outputs": [
    {
     "name": "stdout",
     "output_type": "stream",
     "text": [
      "Shape of X_test and X_train: ((18623, 784), (353827, 784))\n"
     ]
    }
   ],
   "source": [
    "#splitting the dataset into training set and test set \n",
    "\n",
    "X_train, X_test, y_train, y_test = train_test_split(X, y, train_size= 0.95)\n",
    "\n",
    "print(f\"Shape of X_test and X_train: {X_test.shape, X_train.shape}\")"
   ]
  },
  {
   "cell_type": "code",
   "execution_count": 50,
   "metadata": {},
   "outputs": [
    {
     "name": "stdout",
     "output_type": "stream",
     "text": [
      "Shape of X_test and X_cv: ((7449, 784), (11174, 784))\n"
     ]
    }
   ],
   "source": [
    "#splitting the test set into test set and cross validation set\n",
    "\n",
    "X_test, X_cv, y_test, y_cv = train_test_split(X_test, y_test, train_size= 0.4)\n",
    "\n",
    "print(f\"Shape of X_test and X_cv: {X_test.shape, X_cv.shape}\")"
   ]
  },
  {
   "cell_type": "code",
   "execution_count": null,
   "metadata": {},
   "outputs": [],
   "source": []
  }
 ],
 "metadata": {
  "kernelspec": {
   "display_name": "Python 3.10.4 64-bit",
   "language": "python",
   "name": "python3"
  },
  "language_info": {
   "codemirror_mode": {
    "name": "ipython",
    "version": 3
   },
   "file_extension": ".py",
   "mimetype": "text/x-python",
   "name": "python",
   "nbconvert_exporter": "python",
   "pygments_lexer": "ipython3",
   "version": "3.10.4"
  },
  "orig_nbformat": 4,
  "vscode": {
   "interpreter": {
    "hash": "490884e7e377a2da9966ed37e82831f3fd1d200c4fab21381ab5fe8f244ef56c"
   }
  }
 },
 "nbformat": 4,
 "nbformat_minor": 2
}
