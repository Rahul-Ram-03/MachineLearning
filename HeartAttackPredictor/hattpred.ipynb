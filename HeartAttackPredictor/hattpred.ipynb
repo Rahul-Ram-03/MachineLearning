{
 "cells": [
  {
   "cell_type": "code",
   "execution_count": null,
   "metadata": {},
   "outputs": [],
   "source": [
    "from sklearn.linear_model import LogisticRegression\n",
    "from sklearn.preprocessing import StandardScaler\n",
    "from sklearn.metrics import confusion_matrix\n",
    "from sklearn.model_selection import train_test_split\n",
    "import matplotlib.pyplot as plt\n",
    "import pandas as pd\n",
    "import numpy as np"
   ]
  },
  {
   "cell_type": "code",
   "execution_count": null,
   "metadata": {},
   "outputs": [],
   "source": [
    "#loading the data into a dataframe\n",
    "df = pd.read_csv(\"heart.csv\")\n",
    "df.shape"
   ]
  },
  {
   "cell_type": "code",
   "execution_count": null,
   "metadata": {},
   "outputs": [],
   "source": [
    "#checking for duplicates \n",
    "df.duplicated().sum()"
   ]
  },
  {
   "cell_type": "code",
   "execution_count": null,
   "metadata": {},
   "outputs": [],
   "source": [
    "#dropping the duplicates\n",
    "df.drop_duplicates()\n",
    "df.head()"
   ]
  },
  {
   "cell_type": "code",
   "execution_count": null,
   "metadata": {},
   "outputs": [],
   "source": [
    "#dropping null entries\n",
    "df.dropna()\n",
    "df.shape"
   ]
  },
  {
   "cell_type": "code",
   "execution_count": null,
   "metadata": {},
   "outputs": [],
   "source": [
    "#splitting the dataframe into input features and targets\n",
    "X = df.iloc[:,0:13].values  #input features\n",
    "y = df[\"output\"].values\n",
    "\n",
    "m, n = X.shape\n",
    "print(f\"Dimensions of X and y: {X.shape, y.shape}\")"
   ]
  },
  {
   "cell_type": "code",
   "execution_count": null,
   "metadata": {},
   "outputs": [],
   "source": [
    "#plotting the feature values using a boxplot\n",
    "titles=[\"age\", \"sex\", \"cp\", \"trtbps\", \"chol\", \"fbs\", \"restecg\", \"thalachh\", \"exng\", \"oldpeak\", \"slp\", \"caa\", \"thall\"]\n",
    "for i in range(n):\n",
    "    plt.boxplot(X[:,i])\n",
    "    plt.title(titles[i])\n",
    "    plt.show()"
   ]
  },
  {
   "cell_type": "code",
   "execution_count": null,
   "metadata": {},
   "outputs": [],
   "source": [
    "#scaling down the features\n",
    "X = StandardScaler().fit_transform(X)"
   ]
  },
  {
   "cell_type": "code",
   "execution_count": null,
   "metadata": {},
   "outputs": [],
   "source": [
    "#splitting X and y into training and test data\n",
    "X_train, X_test, y_train, y_test = train_test_split(X, y, train_size=0.85)\n",
    "\n",
    "print(f\"Shape of X_train and X_test: {X_train.shape, X_test.shape}\")\n",
    "print(f\"Shape of y_train and y_test: {y_train.shape, y_test.shape}\")"
   ]
  },
  {
   "cell_type": "code",
   "execution_count": null,
   "metadata": {},
   "outputs": [],
   "source": [
    "#splitting the test data into test data and cross validation data\n",
    "\n",
    "X_cv, X_test, y_cv, y_test = train_test_split(X_test, y_test, train_size=0.75)\n",
    "\n",
    "print(f\"Shape of X_cv and X_test: {X_cv.shape, X_test.shape}\")\n",
    "print(f\"Shape of y_cv and y_test: {y_cv.shape, y_test.shape}\")"
   ]
  },
  {
   "cell_type": "code",
   "execution_count": null,
   "metadata": {},
   "outputs": [],
   "source": [
    "#fitting the model to the training set\n",
    "model = LogisticRegression(multi_class=\"ovr\").fit(X_train, y_train)"
   ]
  },
  {
   "cell_type": "code",
   "execution_count": null,
   "metadata": {},
   "outputs": [],
   "source": [
    "pred_cv = model.predict(X_cv)\n",
    "\n",
    "k = pred_cv.shape[0]\n",
    "c = 0.\n",
    "\n",
    "for i in range(k):\n",
    "    if(pred_cv[i]!=y_cv[i]):\n",
    "        c += 1\n",
    "\n",
    "print(c/k)\n"
   ]
  },
  {
   "cell_type": "code",
   "execution_count": null,
   "metadata": {},
   "outputs": [],
   "source": [
    "pred_tr = model.predict(X_train)\n",
    "\n",
    "k = pred_cv.shape[0]\n",
    "c = 0.\n",
    "\n",
    "for i in range(k):\n",
    "    if(pred_tr[i]!=y_train[i]):\n",
    "        c += 1\n",
    "\n",
    "print(c/k)"
   ]
  },
  {
   "cell_type": "code",
   "execution_count": null,
   "metadata": {},
   "outputs": [],
   "source": []
  }
 ],
 "metadata": {
  "kernelspec": {
   "display_name": "Python 3.10.4 64-bit",
   "language": "python",
   "name": "python3"
  },
  "language_info": {
   "codemirror_mode": {
    "name": "ipython",
    "version": 3
   },
   "file_extension": ".py",
   "mimetype": "text/x-python",
   "name": "python",
   "nbconvert_exporter": "python",
   "pygments_lexer": "ipython3",
   "version": "3.10.4"
  },
  "orig_nbformat": 4,
  "vscode": {
   "interpreter": {
    "hash": "490884e7e377a2da9966ed37e82831f3fd1d200c4fab21381ab5fe8f244ef56c"
   }
  }
 },
 "nbformat": 4,
 "nbformat_minor": 2
}
